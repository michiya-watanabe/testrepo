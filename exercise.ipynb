{
 "cells": [
  {
   "cell_type": "code",
   "execution_count": 1,
   "metadata": {
    "colab": {
     "base_uri": "https://localhost:8080/"
    },
    "id": "tZbYAD7zUA9C",
    "outputId": "95a60058-d35a-4221-a5ea-208f92364fb6"
   },
   "outputs": [
    {
     "name": "stdout",
     "output_type": "stream",
     "text": [
      "[0, 1, 1, 2, 3, 5, 8, 13, 21, 34, 55, 89, 144, 233, 377, 610, 987, 1597, 2584, 4181, 6765]\n",
      "7.343292236328125e-05 sec.\n",
      "[0, 1, 1, 2, 3, 5, 8, 13, 21, 34, 55, 89, 144, 233, 377, 610, 987, 1597, 2584, 4181, 6765]\n",
      "9.465217590332031e-05 sec.\n"
     ]
    }
   ],
   "source": [
    "import math\n",
    "import time\n",
    "\n",
    "a = [0,1]\n",
    "start = time.time()\n",
    "for i in range(2,21):\n",
    "    f = a[i-1]+a[i-2]\n",
    "    a.append(f)\n",
    "end = time.time()\n",
    "\n",
    "print(a)\n",
    "print(end-start, 'sec.')\n",
    "\n",
    "def fiv(n):\n",
    "    sqr5 = math.sqrt(5)\n",
    "    f = (((1+sqr5)/2)**n - ((1-sqr5)/2)**n)/sqr5\n",
    "\n",
    "    return f\n",
    "\n",
    "b = list()\n",
    "start = time.time()\n",
    "for i in range(0,21):\n",
    "    b.append(int(fiv(i)))\n",
    "end = time.time()\n",
    "\n",
    "print(b)\n",
    "print(end-start, 'sec.')"
   ]
  },
  {
   "cell_type": "code",
   "execution_count": null,
   "metadata": {
    "id": "RWu5EBqmVZc1"
   },
   "outputs": [],
   "source": []
  }
 ],
 "metadata": {
  "colab": {
   "name": "exercise.ipynb",
   "provenance": []
  },
  "kernelspec": {
   "display_name": "Python 3",
   "language": "python",
   "name": "python3"
  },
  "language_info": {
   "codemirror_mode": {
    "name": "ipython",
    "version": 3
   },
   "file_extension": ".py",
   "mimetype": "text/x-python",
   "name": "python",
   "nbconvert_exporter": "python",
   "pygments_lexer": "ipython3",
   "version": "3.8.8"
  }
 },
 "nbformat": 4,
 "nbformat_minor": 1
}
